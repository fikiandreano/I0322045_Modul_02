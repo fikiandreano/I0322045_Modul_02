{
 "cells": [
  {
   "cell_type": "code",
   "execution_count": 3,
   "metadata": {},
   "outputs": [
    {
     "name": "stdout",
     "output_type": "stream",
     "text": [
      "nilai 99 c ke f adalah: 210.20000000000002\n"
     ]
    }
   ],
   "source": [
    "celcius = int(input(\"memasukkan nilai celcius: \"))\n",
    "\n",
    "fahrenheit = (9/5) * celcius +32\n",
    "print(f\"nilai {celcius} c ke f adalah: {fahrenheit}\")\n"
   ]
  },
  {
   "cell_type": "code",
   "execution_count": 5,
   "metadata": {},
   "outputs": [
    {
     "name": "stdout",
     "output_type": "stream",
     "text": [
      "nilai 99 r ke f adalah: 254.75\n"
     ]
    }
   ],
   "source": [
    "reamur = int(input(\"memasukkan nilai reamur: \"))\n",
    "\n",
    "fareinheit = (9/4) * reamur +32\n",
    "print(f\"nilai {reamur} r ke f adalah: {fareinheit}\")\n"
   ]
  },
  {
   "cell_type": "code",
   "execution_count": 28,
   "metadata": {},
   "outputs": [
    {
     "name": "stdout",
     "output_type": "stream",
     "text": [
      "0.00021300000000000003\n"
     ]
    }
   ],
   "source": [
    "mata_uang  = {\n",
    "    'IDR' : 1 ,\n",
    "    'USD' : 0.000071,\n",
    "    \n",
    "}\n",
    "uang = input(\"memasukkan nilai matauang yang ingin dikonversi (IDR, USD): \")\n",
    "nilai =int(input(\"masukkan nilai uang: \"))\n",
    "print(mata_uang[uang]  * nilai)\n",
    "\n",
    "\n",
    "\n",
    "\n"
   ]
  },
  {
   "cell_type": "code",
   "execution_count": 32,
   "metadata": {},
   "outputs": [],
   "source": [
    "classroom = {\n",
    "    'praktikan' : {\n",
    "        'baris1': {\n",
    "            'praktikan1' : {\n",
    "            'nama' : 'dimas', \n",
    "            'umur' : 18,\n",
    "    }   }   },\n",
    "            'praktikum2' : {\n",
    "            'nama' : 'fiki',\n",
    "            'umur' : 18,\n",
    "            }\n",
    "        'baris2' : \n",
    "            'praktikan' : {\n",
    "            'nama' : 'fashiha',\n",
    "            'umur' : '19',\n",
    "   \n",
    "\n",
    "        \n",
    "\n",
    "     \n",
    "}   \n",
    "\n",
    "           "
   ]
  },
  {
   "cell_type": "code",
   "execution_count": 47,
   "metadata": {},
   "outputs": [
    {
     "name": "stdout",
     "output_type": "stream",
     "text": [
      "ikan\n",
      "pahit\n",
      "bakar gosong\n",
      "hitam\n",
      "pahit\n"
     ]
    }
   ],
   "source": [
    "string = \"ikan bakar gosong hitam pahit banget\"\n",
    "print(string[0:4]) \n",
    "print(string[24:29]) \n",
    "print(string[5:17]) \n",
    "print(string[18:23])\n",
    "print(string[24:29])\n"
   ]
  }
 ],
 "metadata": {
  "kernelspec": {
   "display_name": "Python 3",
   "language": "python",
   "name": "python3"
  },
  "language_info": {
   "codemirror_mode": {
    "name": "ipython",
    "version": 3
   },
   "file_extension": ".py",
   "mimetype": "text/x-python",
   "name": "python",
   "nbconvert_exporter": "python",
   "pygments_lexer": "ipython3",
   "version": "3.10.10"
  },
  "orig_nbformat": 4
 },
 "nbformat": 4,
 "nbformat_minor": 2
}
